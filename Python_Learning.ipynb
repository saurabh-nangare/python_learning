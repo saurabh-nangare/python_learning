{
  "nbformat": 4,
  "nbformat_minor": 0,
  "metadata": {
    "colab": {
      "provenance": [],
      "authorship_tag": "ABX9TyMb6etvQrUTRZQ8AalOy9BU",
      "include_colab_link": true
    },
    "kernelspec": {
      "name": "python3",
      "display_name": "Python 3"
    },
    "language_info": {
      "name": "python"
    }
  },
  "cells": [
    {
      "cell_type": "markdown",
      "metadata": {
        "id": "view-in-github",
        "colab_type": "text"
      },
      "source": [
        "<a href=\"https://colab.research.google.com/github/saurabh-nangare/python_learning/blob/main/Python_Learning.ipynb\" target=\"_parent\"><img src=\"https://colab.research.google.com/assets/colab-badge.svg\" alt=\"Open In Colab\"/></a>"
      ]
    },
    {
      "cell_type": "markdown",
      "source": [
        "## **Lets start Python From Scratch**"
      ],
      "metadata": {
        "id": "YQMDhXPTVK0M"
      }
    },
    {
      "cell_type": "markdown",
      "source": [
        "## **Introduction**"
      ],
      "metadata": {
        "id": "XM3vmfjPM_AN"
      }
    },
    {
      "cell_type": "markdown",
      "source": [
        "1.   **Guido Van Rossum** is the father of python (1991), he was woring in CWI, they created the OS ameba os. they fustrated with the use of C language. That was the purpose behind creating the Python language as user friendly and easy in syntax.\n",
        "\n",
        "2.   When deciding the name of the language, He was watching the show mighty python on the TV so he named the language as **PYTHON**\n",
        "\n",
        "3.   Python is Dynamically typed, High Level programming language.\n",
        "\n",
        "\n",
        "\n"
      ],
      "metadata": {
        "id": "w5WaH0z-IzIH"
      }
    },
    {
      "cell_type": "markdown",
      "source": [
        "### **Difference between Interpreter and Compiler**\n",
        "\n",
        "Interpreter and Compiler are used to convert the high level language code into the machine level language.\n",
        "\n",
        "Interpreter --> Interpreter is used to convert the high level language to machine level language line by line.\n",
        "\n",
        "compiler --> compiler compiles all the lines of source file at once and feed it to microprocessor.\n",
        "\n",
        "\n",
        "\n"
      ],
      "metadata": {
        "id": "MNIJwdvmI2Ue"
      }
    },
    {
      "cell_type": "code",
      "source": [
        "def return_number(a,b):\n",
        "  return a,b\n",
        "\n",
        "x,y = return_number(3,6)\n",
        "print(x,'  ',y)"
      ],
      "metadata": {
        "id": "QivkI4CPkle0",
        "colab": {
          "base_uri": "https://localhost:8080/"
        },
        "outputId": "5835976c-633b-45e7-dfb4-6f5691d9bfa0"
      },
      "execution_count": 4,
      "outputs": [
        {
          "output_type": "stream",
          "name": "stdout",
          "text": [
            "3    6\n"
          ]
        }
      ]
    },
    {
      "cell_type": "code",
      "source": [
        "class Students:\n",
        "  '''asach kelay try'''\n",
        "  # variables =\n",
        "  # methods =\n",
        "\n",
        "print(Students.__doc__)"
      ],
      "metadata": {
        "colab": {
          "base_uri": "https://localhost:8080/"
        },
        "id": "6Y_HCTGQEXol",
        "outputId": "e678d536-7f52-40ed-f2dd-36820a9ee28f"
      },
      "execution_count": 1,
      "outputs": [
        {
          "output_type": "stream",
          "name": "stdout",
          "text": [
            "asach kelay try\n"
          ]
        }
      ]
    }
  ]
}